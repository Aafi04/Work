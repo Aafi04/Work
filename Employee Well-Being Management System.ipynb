{
 "cells": [
  {
   "cell_type": "code",
   "execution_count": null,
   "metadata": {},
   "outputs": [],
   "source": [
    "import pandas as pd\n",
    "import seaborn as sns\n",
    "import matplotlib.pyplot as plt\n",
    "import random"
   ]
  },
  {
   "cell_type": "code",
   "execution_count": null,
   "metadata": {},
   "outputs": [],
   "source": [
    "# Define Employee class\n",
    "class Employee:\n",
    "    def __init__(self, name, id, wellbeing_status):\n",
    "        self._name = name\n",
    "        self._id = id\n",
    "        self._wellbeing_status = wellbeing_status\n",
    "        self._wellbeing_history = {}  # Dictionary to store wellbeing history\n",
    "\n",
    "    def get_name(self):\n",
    "        return self._name\n",
    "\n",
    "    def get_id(self):\n",
    "        return self._id\n",
    "\n",
    "    def get_wellbeing_status(self):\n",
    "        return self._wellbeing_status\n",
    "\n",
    "    def set_wellbeing_status(self, status):\n",
    "        self._wellbeing_status = status\n",
    "\n",
    "    def add_wellbeing_history(self, day, status):\n",
    "        self._wellbeing_history[day] = status\n",
    "\n",
    "    def get_wellbeing_history(self):\n",
    "        return self._wellbeing_history"
   ]
  },
  {
   "cell_type": "code",
   "execution_count": null,
   "metadata": {},
   "outputs": [],
   "source": [
    "# Define WellbeingProtocol class\n",
    "class WellbeingProtocol:\n",
    "    def __init__(self, protocol_name):\n",
    "        self._protocol_name = protocol_name\n",
    "\n",
    "    def apply_protocol(self, employee):\n",
    "        # Subclass for this method\n",
    "        pass"
   ]
  },
  {
   "cell_type": "code",
   "execution_count": null,
   "metadata": {},
   "outputs": [],
   "source": [
    "# Define SpecificWellbeingProtocol subclass\n",
    "class SpecificWellbeingProtocol(WellbeingProtocol):\n",
    "    def __init__(self, protocol_name):\n",
    "        super().__init__(protocol_name)\n",
    "\n",
    "    def apply_protocol(self, employee):\n",
    "        # Implement the specific protocol for the employee\n",
    "        pass\n"
   ]
  },
  {
   "cell_type": "code",
   "execution_count": null,
   "metadata": {},
   "outputs": [],
   "source": [
    "# Define Management class\n",
    "class Management:\n",
    "    def __init__(self):\n",
    "        self._employees = []\n",
    "\n",
    "    def add_employee(self, employee):\n",
    "        self._employees.append(employee)\n",
    "\n",
    "    def apply_wellbeing_protocol(self, protocol):\n",
    "        for employee in self._employees:\n",
    "            protocol.apply_protocol(employee)\n",
    "\n",
    "    def get_employee_wellbeing_status(self, id):\n",
    "        for employee in self._employees:\n",
    "            if employee.get_id() == id:\n",
    "                return employee.get_wellbeing_status()\n",
    "        return None\n"
   ]
  },
  {
   "cell_type": "code",
   "execution_count": null,
   "metadata": {},
   "outputs": [],
   "source": [
    "# Generate example data\n",
    "management = Management()\n",
    "employee_names = [\"Alice\", \"Bob\", \"Charlie\", \"David\", \"Emma\"]\n",
    "for i, name in enumerate(employee_names, start=1):\n",
    "    employee = Employee(name, i, \"Good\")\n",
    "    management.add_employee(employee)\n",
    "    # Randomly generate wellbeing status for each day for each employee\n",
    "    for day in range(1, 11):\n",
    "        status = random.choice([\"Poor\", \"Average\", \"Good\", \"Very Good\", \"Excellent\"])\n",
    "        employee.add_wellbeing_history(f\"Day{day}\", status)"
   ]
  },
  {
   "cell_type": "code",
   "execution_count": null,
   "metadata": {},
   "outputs": [],
   "source": [
    "# Convert the wellbeing history data to DataFrame for heatmap\n",
    "data_dict = {employee.get_name(): employee.get_wellbeing_history() for employee in management._employees}\n",
    "data = pd.DataFrame(data_dict).T.sort_index()"
   ]
  },
  {
   "cell_type": "code",
   "execution_count": null,
   "metadata": {},
   "outputs": [],
   "source": [
    "# Convert the categorical data to numerical for the heatmap\n",
    "status_mapping = {\"Poor\": 0, \"Average\": 1, \"Good\": 2, \"Very Good\": 3, \"Excellent\": 4}\n",
    "data_num = data.applymap(lambda x: status_mapping.get(x) if x in status_mapping else -1)\n"
   ]
  },
  {
   "cell_type": "code",
   "execution_count": null,
   "metadata": {},
   "outputs": [],
   "source": [
    "# Plot the heatmap\n",
    "plt.figure(figsize=(12, 6))\n",
    "sns.heatmap(data_num.T, annot=data.T, fmt=\"\", cmap=\"coolwarm\", cbar=True, linewidths=.5, linecolor='black', mask=(data_num.T == -1))\n",
    "plt.title(\"Employee Wellbeing Status Over Time\", fontsize=16)\n",
    "plt.xlabel(\"Time\", fontsize=14)\n",
    "plt.ylabel(\"Employees\", fontsize=14)\n",
    "plt.xticks(fontsize=12)\n",
    "plt.yticks(fontsize=12)\n",
    "plt.show()"
   ]
  },
  {
   "cell_type": "code",
   "execution_count": null,
   "metadata": {},
   "outputs": [],
   "source": []
  }
 ],
 "metadata": {
  "kernelspec": {
   "display_name": "Python 3",
   "language": "python",
   "name": "python3"
  },
  "language_info": {
   "codemirror_mode": {
    "name": "ipython",
    "version": 3
   },
   "file_extension": ".py",
   "mimetype": "text/x-python",
   "name": "python",
   "nbconvert_exporter": "python",
   "pygments_lexer": "ipython3",
   "version": "3.11.7"
  }
 },
 "nbformat": 4,
 "nbformat_minor": 2
}
